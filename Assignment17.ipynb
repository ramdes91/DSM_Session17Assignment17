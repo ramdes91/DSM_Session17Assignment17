{
 "cells": [
  {
   "cell_type": "code",
   "execution_count": 7,
   "metadata": {},
   "outputs": [],
   "source": [
    "# import the libraries\n",
    "import pandas as pd\n",
    "import numpy as np\n",
    "import scipy as sci\n",
    "import matplotlib.pyplot as plt\n",
    "import scipy.stats as stat\n",
    "import math \n",
    "from scipy.stats import binom"
   ]
  },
  {
   "cell_type": "code",
   "execution_count": 9,
   "metadata": {},
   "outputs": [],
   "source": [
    "# Given \n",
    "μ =100    # population mean of Blood glucose levels for obese patients\n",
    "σ= 15     # standard deviation of Blood glucose levels for obese patients (population)\n",
    "N = 36    # No of Samples who have tried the raw cornstarch diet \n",
    "X= 108    # sample mean (who have tried the raw cornstarch diet) "
   ]
  },
  {
   "cell_type": "code",
   "execution_count": 17,
   "metadata": {},
   "outputs": [
    {
     "name": "stdout",
     "output_type": "stream",
     "text": [
      "\n",
      "Calculate Z Score Using Formula: (X - μ) / (σ/math.sqrt(N)\n",
      "\t Z-Score value is : 0.35406698564593303\n",
      "\n",
      "Probability of having mean less than 108:\n",
      "\t\t p = stats.norm.cdf(Z)\n",
      "\t i.e.\t p = 0.6384\n",
      "\n",
      "The probability of having mean more than 108: 0.3616\n",
      "i.e. The probability of having mean more than 108 is lesser than Significance level 0.05\n",
      "\n",
      "So, We can reject the Null Hypothesis\n",
      "i.e. Raw cornstarch diet does not have an affect\n"
     ]
    }
   ],
   "source": [
    "print('\\nCalculate Z Score Using Formula: (X - μ) / (σ/math.sqrt(N)')\n",
    "Z = (X - μ) / (σ/math.sqrt(N))\n",
    "print('\\t Z-Score value is :',Z)\n",
    "\n",
    "\n",
    "print('\\nProbability of having mean less than 108:\\n\\t\\t p = stats.norm.cdf(Z)')\n",
    "p = stat.norm.cdf(Z) # cdf function takes Z- score , returns standard normal probality\n",
    "print('\\t i.e.\\t p =',round(p,4))\n",
    "\n",
    "print('\\nThe probability of having mean more than 108:',round(1-p,4))      \n",
    "print('i.e. The probability of having mean more than 108 is lesser than Significance level 0.05')\n",
    "\n",
    "print('\\nSo, We can reject the Null Hypothesis')\n",
    "print('i.e. Raw cornstarch diet does not have an affect')"
   ]
  },
  {
   "cell_type": "code",
   "execution_count": 12,
   "metadata": {},
   "outputs": [],
   "source": [
    "# Given \n",
    "p_state1_republican =52/100   # Republican voters in the first state 52% \n",
    "p_state1_democract = 48/100   # Democrats voters in the first state 48% \n",
    "n_state1 = 100                # No. of samples from first state=100\n",
    "\n",
    "p_state2_republican =47/100   # Republican voters in the second state 47% \n",
    "p_state2_democract = 53/100   # Democrats voters in the second state 53% \n",
    "n_state2 = 100                # No. of samples from second state=100"
   ]
  },
  {
   "cell_type": "code",
   "execution_count": 14,
   "metadata": {},
   "outputs": [
    {
     "name": "stdout",
     "output_type": "stream",
     "text": [
      "Standard deviation:\t 0.07062\n",
      "Mean Difference:\t -0.05\n",
      "Z Score:\t\t -0.70803\n",
      "\n",
      "Probability of having greater Republican voters in the second state:\n",
      "\t\t p = stats.norm.cdf(Z)\n",
      "\t i.e.\t p = 0.2395\n",
      "\n",
      "i.e. The probability that the survey will show a greater percentage of Republican voters \n",
      "\t in the second state than in the first state is 0.2395\n"
     ]
    }
   ],
   "source": [
    "# Calculate probability that the survey will show a greater percentage of \n",
    "# Republican voters in the second state than in the first state \n",
    "\n",
    "# Standard deviation\n",
    "σ=  math.sqrt(((p_state1_republican*(1- p_state1_republican))/n_state1) + \\\n",
    "              ((p_state2_republican*(1- p_state2_republican))/n_state2))\n",
    "\n",
    "print('Standard deviation:\\t',  round(σ,5))\n",
    "\n",
    "# Mean Difference \n",
    "mean_difference = p_state2_republican  - p_state1_republican\n",
    "print('Mean Difference:\\t',  round(mean_difference,5))\n",
    "\n",
    "# Z Score\n",
    "# Z = (mean difference/Std Deviation)\n",
    "\n",
    "Z = mean_difference/σ\n",
    "print('Z Score:\\t\\t',  round(Z,5))\n",
    "\n",
    "print('\\nProbability of having greater Republican voters in the second state:\\n\\t\\t p = stats.norm.cdf(Z)')\n",
    "p = stat.norm.cdf(Z) # cdf function takes Z- score , returns standard normal probality\n",
    "print('\\t i.e.\\t p =',round(p,4))\n",
    "\n",
    "print('\\ni.e. The probability that the survey will show a greater percentage of Republican voters \\n' \\\n",
    "      '\\t in the second state than in the first state is', round(p,4))"
   ]
  },
  {
   "cell_type": "code",
   "execution_count": 15,
   "metadata": {},
   "outputs": [],
   "source": [
    "# Given \n",
    "X = 1100     # My SAT Score. i.e. Sample value of SAT score\n",
    "σ = 209      # Standard deviation of SAT score\n",
    "μ = 1026     # Mean SAT score\n",
    "N = 1        # No of Samples - only my score considered as sample"
   ]
  },
  {
   "cell_type": "code",
   "execution_count": 18,
   "metadata": {},
   "outputs": [
    {
     "name": "stdout",
     "output_type": "stream",
     "text": [
      "\n",
      "Z Score Using Formula: (X - μ) / σ/math.sqrt(N)\n",
      "\t Z-Score value is : 0.35406698564593303\n",
      "\n",
      "Probability of having my score more than averge:\n",
      "\t\t p = stats.norm.cdf(Z)\n",
      "\t i.e.\t p = 0.6384\n",
      "\n",
      "i.e. Probability of having my score more than avearge:  63.84 %\n"
     ]
    }
   ],
   "source": [
    "print('\\nZ Score Using Formula: (X - μ) / σ/math.sqrt(N)')\n",
    "Z = (X - μ) / (σ/math.sqrt(N))\n",
    "print('\\t Z-Score value is :', Z)\n",
    "\n",
    "print('\\nProbability of having my score more than averge:\\n\\t\\t p = stats.norm.cdf(Z)')\n",
    "p = stat.norm.cdf(Z) # cdf function takes Z- score , returns standard normal probality\n",
    "print('\\t i.e.\\t p =',round(p,4))\n",
    "\n",
    "print('\\ni.e. Probability of having my score more than avearge: ', round(p*100,2),'%')"
   ]
  }
 ],
 "metadata": {
  "kernelspec": {
   "display_name": "Python 3",
   "language": "python",
   "name": "python3"
  },
  "language_info": {
   "codemirror_mode": {
    "name": "ipython",
    "version": 3
   },
   "file_extension": ".py",
   "mimetype": "text/x-python",
   "name": "python",
   "nbconvert_exporter": "python",
   "pygments_lexer": "ipython3",
   "version": "3.6.5"
  }
 },
 "nbformat": 4,
 "nbformat_minor": 2
}
